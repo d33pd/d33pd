{
  "cells": [
    {
      "cell_type": "markdown",
      "metadata": {
        "id": "view-in-github",
        "colab_type": "text"
      },
      "source": [
        "<a href=\"https://colab.research.google.com/github/d33pd/d33pd/blob/main/project1.ipynb\" target=\"_parent\"><img src=\"https://colab.research.google.com/assets/colab-badge.svg\" alt=\"Open In Colab\"/></a>"
      ]
    },
    {
      "cell_type": "code",
      "execution_count": null,
      "metadata": {
        "colab": {
          "base_uri": "https://localhost:8080/"
        },
        "id": "uyF9oi8XyogP",
        "outputId": "15165a74-eab4-4d32-8416-36f64c518a7e"
      },
      "outputs": [
        {
          "name": "stdout",
          "output_type": "stream",
          "text": [
            "   respondent_id  h1n1_concern  h1n1_knowledge  behavioral_antiviral_meds  \\\n",
            "0              0           1.0             0.0                        0.0   \n",
            "1              1           3.0             1.0                        0.0   \n",
            "2              1           1.0             1.0                        0.0   \n",
            "3              3           1.0             1.0                        0.0   \n",
            "4              4           1.0             1.0                        0.0   \n",
            "\n",
            "   behavioral_avoidance  behavioral_face_mask  behavioral_wash_hands  \\\n",
            "0                   0.0                   0.0                    0.0   \n",
            "1                   1.0                   0.0                    1.0   \n",
            "2                   1.0                   0.0                    0.0   \n",
            "3                   1.0                   0.0                    1.0   \n",
            "4                   1.0                   0.0                    1.0   \n",
            "\n",
            "   behavioral_large_gatherings  behavioral_outside_home  \\\n",
            "0                          0.0                      1.0   \n",
            "1                          0.0                      1.0   \n",
            "2                          0.0                      0.0   \n",
            "3                          1.0                      0.0   \n",
            "4                          1.0                      0.0   \n",
            "\n",
            "   behavioral_touch_face  ...  income_poverty  marital_status  rent_or_own  \\\n",
            "0                    1.0  ...             0.0             1.0          1.0   \n",
            "1                    1.0  ...             0.0             1.0          0.0   \n",
            "2                    0.0  ...             1.0             1.0          1.0   \n",
            "3                    0.0  ...             0.0             1.0          0.0   \n",
            "4                    1.0  ...             1.0             0.0          1.0   \n",
            "\n",
            "   employment_status  hhs_geo_region  census_msa  household_adults  \\\n",
            "0                2.0               0           0               0.0   \n",
            "1                1.0               1           1               0.0   \n",
            "2                1.0               2           1               1.0   \n",
            "3                2.0               3           2               0.0   \n",
            "4                1.0               2           1               1.0   \n",
            "\n",
            "   household_children  employment_industry  employment_occupation  \n",
            "0                 0.0                  NaN                    NaN  \n",
            "1                 0.0             pxcmvdjn               xgwztkwe  \n",
            "2                 0.0             rucpziij               xtkaffoo  \n",
            "3                 0.0                  NaN                    NaN  \n",
            "4                 0.0             wxleyezf               emcorrxb  \n",
            "\n",
            "[5 rows x 36 columns]\n"
          ]
        }
      ],
      "source": [
        "import pandas as pd\n",
        "import numpy as np\n",
        "from sklearn.preprocessing import OneHotEncoder\n",
        "\n",
        "vxn = pd.read_csv('/content/drive/MyDrive/vxn.csv')\n",
        "lvxn = pd.read_csv('/content/drive/MyDrive/training_set_labels.csv')\n",
        "tvxn = pd.read_csv('/content/drive/MyDrive/tvxn.csv')\n",
        "print(vxn.head())"
      ]
    },
    {
      "cell_type": "code",
      "execution_count": null,
      "metadata": {
        "colab": {
          "base_uri": "https://localhost:8080/"
        },
        "id": "FrapPTFZHIBo",
        "outputId": "2e5aab25-0f7b-498d-e117-239833b2e634"
      },
      "outputs": [
        {
          "name": "stdout",
          "output_type": "stream",
          "text": [
            "respondent_id                      0\n",
            "h1n1_concern                      85\n",
            "h1n1_knowledge                   122\n",
            "behavioral_antiviral_meds         79\n",
            "behavioral_avoidance             213\n",
            "behavioral_face_mask              19\n",
            "behavioral_wash_hands             40\n",
            "behavioral_large_gatherings       72\n",
            "behavioral_outside_home           82\n",
            "behavioral_touch_face            128\n",
            "doctor_recc_h1n1                2160\n",
            "doctor_recc_seasonal            2160\n",
            "chronic_med_condition            932\n",
            "child_under_6_months             813\n",
            "health_worker                    789\n",
            "health_insurance               12228\n",
            "opinion_h1n1_vacc_effective      398\n",
            "opinion_h1n1_risk                380\n",
            "opinion_h1n1_sick_from_vacc      375\n",
            "opinion_seas_vacc_effective      452\n",
            "opinion_seas_risk                499\n",
            "opinion_seas_sick_from_vacc      521\n",
            "age_group                          0\n",
            "education                       1407\n",
            "race                               0\n",
            "sex                                0\n",
            "income_poverty                  4497\n",
            "marital_status                  1442\n",
            "0_or_1                          2036\n",
            "employment_status               1471\n",
            "hhs_geo_region                     0\n",
            "census_msa                         0\n",
            "household_adults                 225\n",
            "household_children               225\n",
            "employment_industry            13275\n",
            "employment_occupation          13426\n",
            "dtype: int64\n"
          ]
        }
      ],
      "source": [
        "\n",
        "\n",
        "null_values = tvxn.isnull().sum()\n",
        "\n",
        "print(null_values)\n"
      ]
    },
    {
      "cell_type": "code",
      "execution_count": null,
      "metadata": {
        "colab": {
          "base_uri": "https://localhost:8080/"
        },
        "id": "3BgrS8mDUDdL",
        "outputId": "8805d9c4-6830-4a70-afad-e8422a7d35fc"
      },
      "outputs": [
        {
          "name": "stdout",
          "output_type": "stream",
          "text": [
            "respondent_id                      0\n",
            "h1n1_concern                      92\n",
            "h1n1_knowledge                   116\n",
            "behavioral_antiviral_meds         71\n",
            "behavioral_avoidance             208\n",
            "behavioral_face_mask              19\n",
            "behavioral_wash_hands             42\n",
            "behavioral_large_gatherings       87\n",
            "behavioral_outside_home           82\n",
            "behavioral_touch_face            128\n",
            "doctor_recc_h1n1                2160\n",
            "doctor_recc_seasonal            2160\n",
            "chronic_med_condition            971\n",
            "child_under_6_months             820\n",
            "health_worker                    804\n",
            "health_insurance               12274\n",
            "opinion_h1n1_vacc_effective      391\n",
            "opinion_h1n1_risk                388\n",
            "opinion_h1n1_sick_from_vacc      395\n",
            "opinion_seas_vacc_effective      462\n",
            "opinion_seas_risk                514\n",
            "opinion_seas_sick_from_vacc      537\n",
            "age_group                          0\n",
            "education                       1407\n",
            "race                               0\n",
            "sex                                0\n",
            "income_poverty                  4423\n",
            "marital_status                  1408\n",
            "rent_or_own                     2042\n",
            "employment_status               1463\n",
            "hhs_geo_region                     0\n",
            "census_msa                         0\n",
            "household_adults                 249\n",
            "household_children               249\n",
            "employment_industry            13330\n",
            "employment_occupation          13470\n",
            "dtype: int64\n"
          ]
        }
      ],
      "source": [
        "\n",
        "\n",
        "null_values = vxn.isnull().sum()\n",
        "\n",
        "print(null_values)\n"
      ]
    },
    {
      "cell_type": "code",
      "execution_count": null,
      "metadata": {
        "colab": {
          "base_uri": "https://localhost:8080/"
        },
        "id": "P0iSJZ8U1uR2",
        "outputId": "6165c78e-3d67-4dce-ff36-2390ae8b0c74"
      },
      "outputs": [
        {
          "name": "stdout",
          "output_type": "stream",
          "text": [
            "                h1n1_concern  h1n1_knowledge\n",
            "h1n1_concern        1.000000        0.008819\n",
            "h1n1_knowledge      0.008819        1.000000\n"
          ]
        }
      ],
      "source": [
        "\n",
        "\n",
        "correlation_matrix = vxn.iloc[:, 1:3].corr()\n",
        "print(correlation_matrix)\n"
      ]
    },
    {
      "cell_type": "code",
      "execution_count": null,
      "metadata": {
        "colab": {
          "base_uri": "https://localhost:8080/"
        },
        "id": "wWAd4eoGLpH2",
        "outputId": "85739ee1-ffd4-439c-a9c4-258315da44ac"
      },
      "outputs": [
        {
          "name": "stdout",
          "output_type": "stream",
          "text": [
            "0.20544957259329913\n"
          ]
        }
      ],
      "source": [
        "\n",
        "correlation = vxn['health_insurance'].corr(vxn['rent_or_own'])\n",
        "print(correlation)\n"
      ]
    },
    {
      "cell_type": "code",
      "execution_count": null,
      "metadata": {
        "colab": {
          "base_uri": "https://localhost:8080/"
        },
        "id": "fozSmJnbN5nJ",
        "outputId": "f7ce30d5-1427-488c-839a-0e3e22dffd2c"
      },
      "outputs": [
        {
          "name": "stdout",
          "output_type": "stream",
          "text": [
            "0.2575748585593287\n"
          ]
        }
      ],
      "source": [
        "correlation = vxn['health_insurance'].corr(vxn['income_poverty'])\n",
        "print(correlation)"
      ]
    },
    {
      "cell_type": "code",
      "execution_count": null,
      "metadata": {
        "colab": {
          "base_uri": "https://localhost:8080/"
        },
        "id": "IZhb2ECMOxz_",
        "outputId": "812467b5-bf9d-4d55-d0d3-27aa5f7daaf7"
      },
      "outputs": [
        {
          "name": "stdout",
          "output_type": "stream",
          "text": [
            "0.32564758410308603\n"
          ]
        }
      ],
      "source": [
        "correlation = vxn['rent_or_own'].corr(vxn['income_poverty'])\n",
        "print(correlation)"
      ]
    },
    {
      "cell_type": "code",
      "execution_count": null,
      "metadata": {
        "colab": {
          "base_uri": "https://localhost:8080/"
        },
        "id": "hx-08k2oPGZU",
        "outputId": "10707126-9ce3-4040-9fc3-1dae53034d90"
      },
      "outputs": [
        {
          "name": "stdout",
          "output_type": "stream",
          "text": [
            "-0.32975796482238817\n"
          ]
        }
      ],
      "source": [
        "correlation = vxn['marital_status'].corr(vxn['income_poverty'])\n",
        "print(correlation)"
      ]
    },
    {
      "cell_type": "code",
      "execution_count": null,
      "metadata": {
        "colab": {
          "base_uri": "https://localhost:8080/"
        },
        "id": "GM6zrin-Py2p",
        "outputId": "33c9109c-8d35-4505-99b4-3e298a62624e"
      },
      "outputs": [
        {
          "name": "stdout",
          "output_type": "stream",
          "text": [
            "0.030714901604380174\n"
          ]
        }
      ],
      "source": [
        "correlation = vxn['race'].corr(vxn['income_poverty'])\n",
        "print(correlation)"
      ]
    },
    {
      "cell_type": "code",
      "execution_count": null,
      "metadata": {
        "colab": {
          "base_uri": "https://localhost:8080/"
        },
        "id": "rexjwdj31p0h",
        "outputId": "2b080cb5-e2ed-4b59-f775-fe00aa5e897d"
      },
      "outputs": [
        {
          "name": "stdout",
          "output_type": "stream",
          "text": [
            "0.42157543336376035\n"
          ]
        }
      ],
      "source": [
        "correlation = vxn['education'].corr(vxn['income_poverty'])\n",
        "print(correlation)"
      ]
    },
    {
      "cell_type": "code",
      "execution_count": null,
      "metadata": {
        "colab": {
          "base_uri": "https://localhost:8080/"
        },
        "id": "9fSRq2IiQJxf",
        "outputId": "c1354bee-5cf8-4b95-e1f8-757862f5c0b2"
      },
      "outputs": [
        {
          "name": "stdout",
          "output_type": "stream",
          "text": [
            "                           behavioral_antiviral_meds  behavioral_avoidance\n",
            "behavioral_antiviral_meds                   1.000000              0.049247\n",
            "behavioral_avoidance                        0.049247              1.000000\n"
          ]
        }
      ],
      "source": [
        "correlation_matrix = vxn.iloc[:, 3:5].corr()\n",
        "print(correlation_matrix)"
      ]
    },
    {
      "cell_type": "code",
      "execution_count": null,
      "metadata": {
        "colab": {
          "base_uri": "https://localhost:8080/"
        },
        "id": "wbEOtmR6Q_as",
        "outputId": "981e7a7e-4edd-4c9f-eb54-3a5db268e4c9"
      },
      "outputs": [
        {
          "name": "stdout",
          "output_type": "stream",
          "text": [
            "                      doctor_recc_h1n1  doctor_recc_seasonal\n",
            "doctor_recc_h1n1              1.000000              0.591868\n",
            "doctor_recc_seasonal          0.591868              1.000000\n"
          ]
        }
      ],
      "source": [
        "correlation_matrix = vxn.iloc[:, 10:12].corr()\n",
        "print(correlation_matrix)"
      ]
    },
    {
      "cell_type": "code",
      "execution_count": null,
      "metadata": {
        "colab": {
          "base_uri": "https://localhost:8080/"
        },
        "id": "Ip0dBXzWRvVj",
        "outputId": "87f09031-116e-4248-f05e-4ab8df62b38e"
      },
      "outputs": [
        {
          "name": "stdout",
          "output_type": "stream",
          "text": [
            "                             opinion_h1n1_vacc_effective  opinion_h1n1_risk\n",
            "opinion_h1n1_vacc_effective                     1.000000           0.209965\n",
            "opinion_h1n1_risk                               0.209965           1.000000\n"
          ]
        }
      ],
      "source": [
        "correlation_matrix = vxn.iloc[:, 16:18].corr()\n",
        "print(correlation_matrix)"
      ]
    },
    {
      "cell_type": "code",
      "execution_count": null,
      "metadata": {
        "colab": {
          "base_uri": "https://localhost:8080/"
        },
        "id": "SNzcXq6zR0Pa",
        "outputId": "25bb67a5-f2d8-439a-95a0-d5a13588dccf"
      },
      "outputs": [
        {
          "name": "stdout",
          "output_type": "stream",
          "text": [
            "h1n1_concern: 92\n",
            "h1n1_knowledge: 116\n",
            "behavioral_antiviral_meds: 71\n",
            "behavioral_avoidance: 208\n",
            "behavioral_face_mask: 19\n",
            "behavioral_wash_hands: 42\n",
            "behavioral_large_gatherings: 87\n",
            "behavioral_outside_home: 82\n",
            "behavioral_touch_face: 128\n",
            "doctor_recc_h1n1: 2160\n",
            "doctor_recc_seasonal: 2160\n",
            "chronic_med_condition: 971\n",
            "child_under_6_months: 820\n",
            "health_worker: 804\n",
            "health_insurance: 12274\n",
            "opinion_h1n1_vacc_effective: 391\n",
            "opinion_h1n1_risk: 388\n",
            "opinion_h1n1_sick_from_vacc: 395\n",
            "opinion_seas_vacc_effective: 462\n",
            "opinion_seas_risk: 514\n",
            "opinion_seas_sick_from_vacc: 537\n",
            "education: 1407\n",
            "income_poverty: 4423\n",
            "marital_status: 1408\n",
            "rent_or_own: 2042\n",
            "employment_status: 1463\n",
            "household_adults: 249\n",
            "household_children: 249\n",
            "employment_industry: 13330\n",
            "employment_occupation: 13470\n"
          ]
        }
      ],
      "source": [
        "\n",
        "null_values = vxn.isnull().sum()\n",
        "\n",
        "for column, null_count in null_values.items():\n",
        "  if null_count > 0:\n",
        "    print(f\"{column}: {null_count}\")\n"
      ]
    },
    {
      "cell_type": "code",
      "execution_count": null,
      "metadata": {
        "colab": {
          "base_uri": "https://localhost:8080/"
        },
        "id": "gAYV8eApT98E",
        "outputId": "3536bf94-ba0a-4a98-a65e-756c861b53b0"
      },
      "outputs": [
        {
          "name": "stdout",
          "output_type": "stream",
          "text": [
            "[ 1.  3.  0. nan]\n"
          ]
        }
      ],
      "source": [
        "\n",
        "\n",
        "unique_values = vxn.iloc[:, 1].unique()\n",
        "\n",
        "print(unique_values)\n"
      ]
    },
    {
      "cell_type": "code",
      "execution_count": null,
      "metadata": {
        "id": "bRQ0rTHkna6h"
      },
      "outputs": [],
      "source": [
        "for column in vxn.iloc[:, 3:10]:\n",
        "  mode_value = vxn[column].mode()[0]\n",
        "  vxn[column].fillna(value=mode_value, inplace=True)\n"
      ]
    },
    {
      "cell_type": "code",
      "execution_count": null,
      "metadata": {
        "colab": {
          "base_uri": "https://localhost:8080/"
        },
        "id": "z78jlSXeHUvn",
        "outputId": "9b97462c-d2f6-4317-b198-018681c50162"
      },
      "outputs": [
        {
          "name": "stdout",
          "output_type": "stream",
          "text": [
            "respondent_id                      0\n",
            "h1n1_concern                      85\n",
            "h1n1_knowledge                   122\n",
            "behavioral_antiviral_meds          0\n",
            "behavioral_avoidance               0\n",
            "behavioral_face_mask               0\n",
            "behavioral_wash_hands              0\n",
            "behavioral_large_gatherings        0\n",
            "behavioral_outside_home            0\n",
            "behavioral_touch_face              0\n",
            "doctor_recc_h1n1                2160\n",
            "doctor_recc_seasonal            2160\n",
            "chronic_med_condition            932\n",
            "child_under_6_months             813\n",
            "health_worker                    789\n",
            "health_insurance               12228\n",
            "opinion_h1n1_vacc_effective      398\n",
            "opinion_h1n1_risk                380\n",
            "opinion_h1n1_sick_from_vacc      375\n",
            "opinion_seas_vacc_effective      452\n",
            "opinion_seas_risk                499\n",
            "opinion_seas_sick_from_vacc      521\n",
            "age_group                          0\n",
            "education                       1407\n",
            "race                               0\n",
            "sex                                0\n",
            "income_poverty                  4497\n",
            "marital_status                  1442\n",
            "0_or_1                          2036\n",
            "employment_status               1471\n",
            "hhs_geo_region                     0\n",
            "census_msa                         0\n",
            "household_adults                 225\n",
            "household_children               225\n",
            "employment_industry            13275\n",
            "employment_occupation          13426\n",
            "dtype: int64\n"
          ]
        }
      ],
      "source": [
        "for column in tvxn.iloc[:, 3:10]:\n",
        "  mode_value = tvxn[column].mode()[0]\n",
        "  tvxn[column].fillna(value=mode_value, inplace=True)\n",
        "\n",
        "null_values = tvxn.isnull().sum()\n",
        "print(null_values)\n"
      ]
    },
    {
      "cell_type": "code",
      "execution_count": null,
      "metadata": {
        "colab": {
          "base_uri": "https://localhost:8080/"
        },
        "id": "bHo5OJIIsJVZ",
        "outputId": "6480927c-31a9-4d11-cec9-0199cb319912"
      },
      "outputs": [
        {
          "name": "stdout",
          "output_type": "stream",
          "text": [
            "respondent_id                      0\n",
            "h1n1_concern                      92\n",
            "h1n1_knowledge                   116\n",
            "behavioral_antiviral_meds          0\n",
            "behavioral_avoidance               0\n",
            "behavioral_face_mask               0\n",
            "behavioral_wash_hands              0\n",
            "behavioral_large_gatherings        0\n",
            "behavioral_outside_home            0\n",
            "behavioral_touch_face              0\n",
            "doctor_recc_h1n1                2160\n",
            "doctor_recc_seasonal            2160\n",
            "chronic_med_condition            971\n",
            "child_under_6_months             820\n",
            "health_worker                    804\n",
            "health_insurance               12274\n",
            "opinion_h1n1_vacc_effective      391\n",
            "opinion_h1n1_risk                388\n",
            "opinion_h1n1_sick_from_vacc      395\n",
            "opinion_seas_vacc_effective      462\n",
            "opinion_seas_risk                514\n",
            "opinion_seas_sick_from_vacc      537\n",
            "age_group                          0\n",
            "education                       1407\n",
            "race                               0\n",
            "sex                                0\n",
            "income_poverty                  4423\n",
            "marital_status                  1408\n",
            "rent_or_own                     2042\n",
            "employment_status               1463\n",
            "hhs_geo_region                     0\n",
            "census_msa                         0\n",
            "household_adults                 249\n",
            "household_children               249\n",
            "employment_industry            13330\n",
            "employment_occupation          13470\n",
            "dtype: int64\n"
          ]
        }
      ],
      "source": [
        "for column in vxn.iloc[:, 3:10]:\n",
        "  mode_value = vxn[column].mode()[0]\n",
        "  vxn[column].fillna(value=mode_value, inplace=True)\n",
        "\n",
        "null_values = vxn.isnull().sum()\n",
        "print(null_values)\n"
      ]
    },
    {
      "cell_type": "code",
      "execution_count": null,
      "metadata": {
        "colab": {
          "base_uri": "https://localhost:8080/"
        },
        "id": "um3fj57GHnBH",
        "outputId": "70768d54-ee2d-47d6-f9c7-e57fa4f79a36"
      },
      "outputs": [
        {
          "name": "stdout",
          "output_type": "stream",
          "text": [
            "respondent_id                      0\n",
            "h1n1_concern                      85\n",
            "h1n1_knowledge                   122\n",
            "behavioral_antiviral_meds          0\n",
            "behavioral_avoidance               0\n",
            "behavioral_face_mask               0\n",
            "behavioral_wash_hands              0\n",
            "behavioral_large_gatherings        0\n",
            "behavioral_outside_home            0\n",
            "behavioral_touch_face              0\n",
            "doctor_recc_h1n1                2160\n",
            "doctor_recc_seasonal            2160\n",
            "chronic_med_condition            932\n",
            "child_under_6_months             813\n",
            "health_worker                    789\n",
            "health_insurance               12228\n",
            "opinion_h1n1_vacc_effective        0\n",
            "opinion_h1n1_risk                  0\n",
            "opinion_h1n1_sick_from_vacc        0\n",
            "opinion_seas_vacc_effective        0\n",
            "opinion_seas_risk                  0\n",
            "opinion_seas_sick_from_vacc        0\n",
            "age_group                          0\n",
            "education                       1407\n",
            "race                               0\n",
            "sex                                0\n",
            "income_poverty                  4497\n",
            "marital_status                  1442\n",
            "0_or_1                          2036\n",
            "employment_status               1471\n",
            "hhs_geo_region                     0\n",
            "census_msa                         0\n",
            "household_adults                 225\n",
            "household_children               225\n",
            "employment_industry            13275\n",
            "employment_occupation          13426\n",
            "dtype: int64\n"
          ]
        }
      ],
      "source": [
        "for column in tvxn.iloc[:, 16:22]:\n",
        "  mode_value = tvxn[column].mode()[0]\n",
        "  tvxn[column].fillna(value=mode_value, inplace=True)\n",
        "\n",
        "null_values = tvxn.isnull().sum()\n",
        "print(null_values)\n"
      ]
    },
    {
      "cell_type": "code",
      "execution_count": null,
      "metadata": {
        "colab": {
          "base_uri": "https://localhost:8080/"
        },
        "id": "07KHefwCu934",
        "outputId": "311fea71-3364-4530-b3a2-0f77e5f99a12"
      },
      "outputs": [
        {
          "name": "stdout",
          "output_type": "stream",
          "text": [
            "respondent_id                      0\n",
            "h1n1_concern                      92\n",
            "h1n1_knowledge                   116\n",
            "behavioral_antiviral_meds          0\n",
            "behavioral_avoidance               0\n",
            "behavioral_face_mask               0\n",
            "behavioral_wash_hands              0\n",
            "behavioral_large_gatherings        0\n",
            "behavioral_outside_home            0\n",
            "behavioral_touch_face              0\n",
            "doctor_recc_h1n1                2160\n",
            "doctor_recc_seasonal            2160\n",
            "chronic_med_condition            971\n",
            "child_under_6_months             820\n",
            "health_worker                    804\n",
            "health_insurance               12274\n",
            "opinion_h1n1_vacc_effective        0\n",
            "opinion_h1n1_risk                  0\n",
            "opinion_h1n1_sick_from_vacc        0\n",
            "opinion_seas_vacc_effective        0\n",
            "opinion_seas_risk                  0\n",
            "opinion_seas_sick_from_vacc        0\n",
            "age_group                          0\n",
            "education                       1407\n",
            "race                               0\n",
            "sex                                0\n",
            "income_poverty                  4423\n",
            "marital_status                  1408\n",
            "rent_or_own                     2042\n",
            "employment_status               1463\n",
            "hhs_geo_region                     0\n",
            "census_msa                         0\n",
            "household_adults                 249\n",
            "household_children               249\n",
            "employment_industry            13330\n",
            "employment_occupation          13470\n",
            "dtype: int64\n"
          ]
        }
      ],
      "source": [
        "for column in vxn.iloc[:, 16:22]:\n",
        "  mode_value = vxn[column].mode()[0]\n",
        "  vxn[column].fillna(value=mode_value, inplace=True)\n",
        "\n",
        "null_values = vxn.isnull().sum()\n",
        "print(null_values)"
      ]
    },
    {
      "cell_type": "code",
      "execution_count": null,
      "metadata": {
        "colab": {
          "base_uri": "https://localhost:8080/"
        },
        "id": "CICHdR20oDXG",
        "outputId": "734f3854-644e-46d4-800f-fe40df594984"
      },
      "outputs": [
        {
          "data": {
            "text/plain": [
              "respondent_id                      0\n",
              "h1n1_concern                      92\n",
              "h1n1_knowledge                   116\n",
              "behavioral_antiviral_meds          0\n",
              "behavioral_avoidance               0\n",
              "behavioral_face_mask               0\n",
              "behavioral_wash_hands              0\n",
              "behavioral_large_gatherings        0\n",
              "behavioral_outside_home            0\n",
              "behavioral_touch_face              0\n",
              "doctor_recc_h1n1                2160\n",
              "doctor_recc_seasonal            2160\n",
              "chronic_med_condition            971\n",
              "child_under_6_months             820\n",
              "health_worker                    804\n",
              "health_insurance               12274\n",
              "opinion_h1n1_vacc_effective        0\n",
              "opinion_h1n1_risk                  0\n",
              "opinion_h1n1_sick_from_vacc        0\n",
              "opinion_seas_vacc_effective        0\n",
              "opinion_seas_risk                  0\n",
              "opinion_seas_sick_from_vacc        0\n",
              "age_group                          0\n",
              "education                       1407\n",
              "race                               0\n",
              "sex                                0\n",
              "income_poverty                  4423\n",
              "marital_status                  1408\n",
              "rent_or_own                     2042\n",
              "employment_status               1463\n",
              "hhs_geo_region                     0\n",
              "census_msa                         0\n",
              "household_adults                 249\n",
              "household_children               249\n",
              "employment_industry            13330\n",
              "employment_occupation          13470\n",
              "dtype: int64"
            ]
          },
          "execution_count": 22,
          "metadata": {},
          "output_type": "execute_result"
        }
      ],
      "source": [
        "\n",
        "vxn.isnull().sum()\n",
        "\n"
      ]
    },
    {
      "cell_type": "code",
      "execution_count": null,
      "metadata": {
        "colab": {
          "background_save": true,
          "base_uri": "https://localhost:8080/"
        },
        "id": "1ZuKA5QCH215",
        "outputId": "9b40f44d-75f3-4651-fb34-1fc978c2095c"
      },
      "outputs": [
        {
          "name": "stdout",
          "output_type": "stream",
          "text": [
            "h1n1_concern: 85\n",
            "h1n1_knowledge: 122\n",
            "doctor_recc_h1n1: 2160\n",
            "doctor_recc_seasonal: 2160\n",
            "chronic_med_condition: 932\n",
            "child_under_6_months: 813\n",
            "health_worker: 789\n",
            "health_insurance: 12228\n",
            "education: 1407\n",
            "income_poverty: 4497\n",
            "marital_status: 1442\n",
            "0_or_1: 2036\n",
            "employment_status: 1471\n",
            "household_adults: 225\n",
            "household_children: 225\n",
            "employment_industry: 13275\n",
            "employment_occupation: 13426\n"
          ]
        }
      ],
      "source": [
        "\n",
        "null_values = tvxn.isnull().sum()\n",
        "\n",
        "for column, null_count in null_values.items():\n",
        "  if null_count > 0:\n",
        "    print(f\"{column}: {null_count}\")\n"
      ]
    },
    {
      "cell_type": "code",
      "execution_count": null,
      "metadata": {
        "colab": {
          "background_save": true,
          "base_uri": "https://localhost:8080/"
        },
        "id": "y1MAP0_6ICkU",
        "outputId": "5cdb8e1f-fc70-47f9-bf55-6f07445dbb49"
      },
      "outputs": [
        {
          "name": "stdout",
          "output_type": "stream",
          "text": [
            "       respondent_id  h1n1_concern  h1n1_knowledge  behavioral_antiviral_meds  \\\n",
            "0              26707           2.0             2.0                        0.0   \n",
            "1              26708           1.0             1.0                        0.0   \n",
            "2              26709           2.0             2.0                        0.0   \n",
            "3              26710           1.0             1.0                        0.0   \n",
            "4              26711           3.0             1.0                        1.0   \n",
            "...              ...           ...             ...                        ...   \n",
            "26703          53410           1.0             1.0                        0.0   \n",
            "26704          53411           3.0             1.0                        0.0   \n",
            "26705          53412           0.0             1.0                        0.0   \n",
            "26706          53413           3.0             1.0                        0.0   \n",
            "26707          53414           2.0             1.0                        0.0   \n",
            "\n",
            "       behavioral_avoidance  behavioral_face_mask  behavioral_wash_hands  \\\n",
            "0                       1.0                   0.0                    1.0   \n",
            "1                       0.0                   0.0                    0.0   \n",
            "2                       0.0                   1.0                    1.0   \n",
            "3                       0.0                   0.0                    0.0   \n",
            "4                       1.0                   0.0                    1.0   \n",
            "...                     ...                   ...                    ...   \n",
            "26703                   1.0                   0.0                    1.0   \n",
            "26704                   1.0                   0.0                    1.0   \n",
            "26705                   0.0                   0.0                    0.0   \n",
            "26706                   1.0                   0.0                    1.0   \n",
            "26707                   0.0                   0.0                    1.0   \n",
            "\n",
            "       behavioral_large_gatherings  behavioral_outside_home  \\\n",
            "0                              1.0                      0.0   \n",
            "1                              0.0                      0.0   \n",
            "2                              1.0                      1.0   \n",
            "3                              0.0                      0.0   \n",
            "4                              1.0                      1.0   \n",
            "...                            ...                      ...   \n",
            "26703                          0.0                      0.0   \n",
            "26704                          1.0                      1.0   \n",
            "26705                          0.0                      0.0   \n",
            "26706                          0.0                      1.0   \n",
            "26707                          0.0                      0.0   \n",
            "\n",
            "       behavioral_touch_face  ...  race  sex  income_poverty  marital_status  \\\n",
            "0                        1.0  ...     2    1             2.0             0.0   \n",
            "1                        0.0  ...     0    0             0.0             0.0   \n",
            "2                        1.0  ...     0    0             2.0             1.0   \n",
            "3                        0.0  ...     0    1             1.0             1.0   \n",
            "4                        1.0  ...     1    1             1.0             0.0   \n",
            "...                      ...  ...   ...  ...             ...             ...   \n",
            "26703                    1.0  ...     0    1             NaN             NaN   \n",
            "26704                    1.0  ...     0    0             0.0             1.0   \n",
            "26705                    0.0  ...     0    1             0.0             0.0   \n",
            "26706                    0.0  ...     0    1             1.0             1.0   \n",
            "26707                    1.0  ...     0    1             NaN             0.0   \n",
            "\n",
            "       0_or_1  employment_status  hhs_geo_region  census_msa  \\\n",
            "0         0.0                2.0               0           1   \n",
            "1         0.0                2.0               1           0   \n",
            "2         1.0                2.0               2           0   \n",
            "3         1.0                0.0               2           1   \n",
            "4         1.0                2.0               3           0   \n",
            "...       ...                ...             ...         ...   \n",
            "26703     NaN                NaN               6           2   \n",
            "26704     0.0                2.0               7           0   \n",
            "26705     0.0                0.0               7           1   \n",
            "26706     1.0                0.0               1           1   \n",
            "26707     0.0                2.0               2           2   \n",
            "\n",
            "       household_adults  household_children  \n",
            "0                   1.0                 0.0  \n",
            "1                   3.0                 0.0  \n",
            "2                   1.0                 0.0  \n",
            "3                   1.0                 0.0  \n",
            "4                   0.0                 1.0  \n",
            "...                 ...                 ...  \n",
            "26703               1.0                 1.0  \n",
            "26704               1.0                 3.0  \n",
            "26705               1.0                 0.0  \n",
            "26706               1.0                 0.0  \n",
            "26707               0.0                 0.0  \n",
            "\n",
            "[26708 rows x 34 columns]\n"
          ]
        }
      ],
      "source": [
        "tvxn.drop(['employment_industry', 'employment_occupation'], axis=1, inplace=True)\n",
        "print(tvxn)"
      ]
    },
    {
      "cell_type": "code",
      "execution_count": null,
      "metadata": {
        "colab": {
          "background_save": true,
          "base_uri": "https://localhost:8080/"
        },
        "id": "S_6PvjyNilko",
        "outputId": "8e63cb2d-039b-4477-c620-0641776093c0"
      },
      "outputs": [
        {
          "name": "stdout",
          "output_type": "stream",
          "text": [
            "       respondent_id  h1n1_concern  h1n1_knowledge  behavioral_antiviral_meds  \\\n",
            "0                  0           1.0             0.0                        0.0   \n",
            "1                  1           3.0             1.0                        0.0   \n",
            "2                  1           1.0             1.0                        0.0   \n",
            "3                  3           1.0             1.0                        0.0   \n",
            "4                  4           1.0             1.0                        0.0   \n",
            "...              ...           ...             ...                        ...   \n",
            "26702          16701           1.0             0.0                        0.0   \n",
            "26703          16703           1.0             1.0                        0.0   \n",
            "26704          16704           1.0             1.0                        0.0   \n",
            "26705          16705           1.0             1.0                        0.0   \n",
            "26706          16706           0.0             0.0                        0.0   \n",
            "\n",
            "       behavioral_avoidance  behavioral_face_mask  behavioral_wash_hands  \\\n",
            "0                       0.0                   0.0                    0.0   \n",
            "1                       1.0                   0.0                    1.0   \n",
            "2                       1.0                   0.0                    0.0   \n",
            "3                       1.0                   0.0                    1.0   \n",
            "4                       1.0                   0.0                    1.0   \n",
            "...                     ...                   ...                    ...   \n",
            "26702                   1.0                   0.0                    0.0   \n",
            "26703                   1.0                   0.0                    1.0   \n",
            "26704                   1.0                   1.0                    1.0   \n",
            "26705                   0.0                   0.0                    0.0   \n",
            "26706                   1.0                   0.0                    0.0   \n",
            "\n",
            "       behavioral_large_gatherings  behavioral_outside_home  \\\n",
            "0                              0.0                      1.0   \n",
            "1                              0.0                      1.0   \n",
            "2                              0.0                      0.0   \n",
            "3                              1.0                      0.0   \n",
            "4                              1.0                      0.0   \n",
            "...                            ...                      ...   \n",
            "26702                          0.0                      1.0   \n",
            "26703                          0.0                      0.0   \n",
            "26704                          1.0                      0.0   \n",
            "26705                          0.0                      0.0   \n",
            "26706                          0.0                      0.0   \n",
            "\n",
            "       behavioral_touch_face  ...  race  sex  income_poverty  marital_status  \\\n",
            "0                        1.0  ...     1    1             0.0             1.0   \n",
            "1                        1.0  ...     1    0             0.0             1.0   \n",
            "2                        0.0  ...     1    0             1.0             1.0   \n",
            "3                        0.0  ...     1    1             0.0             1.0   \n",
            "4                        1.0  ...     1    1             1.0             0.0   \n",
            "...                      ...  ...   ...  ...             ...             ...   \n",
            "26702                    0.0  ...     1    1             1.0             1.0   \n",
            "26703                    0.0  ...     1    0             1.0             1.0   \n",
            "26704                    1.0  ...     1    1             NaN             1.0   \n",
            "26705                    1.0  ...     1    1             1.0             0.0   \n",
            "26706                    0.0  ...     1    0             1.0             0.0   \n",
            "\n",
            "       rent_or_own  employment_status  hhs_geo_region  census_msa  \\\n",
            "0              1.0                2.0               0           0   \n",
            "1              0.0                1.0               1           1   \n",
            "2              1.0                1.0               2           1   \n",
            "3              0.0                2.0               3           2   \n",
            "4              1.0                1.0               2           1   \n",
            "...            ...                ...             ...         ...   \n",
            "26702          1.0                2.0               2           0   \n",
            "26703          0.0                1.0               5           2   \n",
            "26704          1.0                NaN               5           1   \n",
            "26705          0.0                1.0               3           0   \n",
            "26706          1.0                2.0               7           2   \n",
            "\n",
            "       household_adults  household_children  \n",
            "0                   0.0                 0.0  \n",
            "1                   0.0                 0.0  \n",
            "2                   1.0                 0.0  \n",
            "3                   0.0                 0.0  \n",
            "4                   1.0                 0.0  \n",
            "...                 ...                 ...  \n",
            "26702               0.0                 0.0  \n",
            "26703               1.0                 0.0  \n",
            "26704               0.0                 0.0  \n",
            "26705               1.0                 0.0  \n",
            "26706               1.0                 0.0  \n",
            "\n",
            "[26707 rows x 34 columns]\n"
          ]
        }
      ],
      "source": [
        "vxn.drop(['employment_industry', 'employment_occupation'], axis=1, inplace=True)\n",
        "print(vxn)"
      ]
    },
    {
      "cell_type": "code",
      "execution_count": null,
      "metadata": {
        "colab": {
          "background_save": true,
          "base_uri": "https://localhost:8080/"
        },
        "id": "6WslZfBOxc5V",
        "outputId": "8b1db5a3-de2e-4d70-b879-3c6450bbbb93"
      },
      "outputs": [
        {
          "name": "stdout",
          "output_type": "stream",
          "text": [
            "0.07907821280898011\n"
          ]
        }
      ],
      "source": [
        "correlation = vxn['health_worker'].corr(vxn['child_under_6_months'])\n",
        "print(correlation)\n"
      ]
    },
    {
      "cell_type": "code",
      "execution_count": null,
      "metadata": {
        "colab": {
          "background_save": true,
          "base_uri": "https://localhost:8080/"
        },
        "id": "aOoRbHP2jEK6",
        "outputId": "dcb88f48-99b5-4828-efb3-19917ee5c5bf"
      },
      "outputs": [
        {
          "name": "stdout",
          "output_type": "stream",
          "text": [
            "0.1816598272608837\n"
          ]
        }
      ],
      "source": [
        "correlation = vxn['household_adults'].corr(vxn['household_children'])\n",
        "print(correlation)\n"
      ]
    },
    {
      "cell_type": "code",
      "execution_count": null,
      "metadata": {
        "colab": {
          "background_save": true,
          "base_uri": "https://localhost:8080/"
        },
        "id": "KYsai3JNjUkt",
        "outputId": "860623c6-174b-452c-f6d1-9a988fd68913"
      },
      "outputs": [
        {
          "name": "stdout",
          "output_type": "stream",
          "text": [
            "'h1n1_concern' : 92 \n",
            "'h1n1_knowledge' : 116 \n",
            "'doctor_recc_h1n1' : 2160 \n",
            "'doctor_recc_seasonal' : 2160 \n",
            "'chronic_med_condition' : 971 \n",
            "'child_under_6_months' : 820 \n",
            "'health_worker' : 804 \n",
            "'health_insurance' : 12274 \n",
            "'education' : 1407 \n",
            "'income_poverty' : 4423 \n",
            "'marital_status' : 1408 \n",
            "'rent_or_own' : 2042 \n",
            "'employment_status' : 1463 \n",
            "'household_adults' : 249 \n",
            "'household_children' : 249 \n"
          ]
        }
      ],
      "source": [
        "missing_values_count = vxn.isnull().sum()\n",
        "for feature, count in missing_values_count.items():\n",
        "    if count > 0:\n",
        "        print(f\"'{feature}' : {count} \")"
      ]
    },
    {
      "cell_type": "code",
      "execution_count": null,
      "metadata": {
        "colab": {
          "background_save": true,
          "base_uri": "https://localhost:8080/"
        },
        "id": "dVyFkW4AIiIr",
        "outputId": "7ccae9eb-f9f7-4272-fb5b-7477034f5ea8"
      },
      "outputs": [
        {
          "name": "stdout",
          "output_type": "stream",
          "text": [
            "Row 15368 = 14\n"
          ]
        }
      ],
      "source": [
        "missing_values_count = tvxn.isnull().sum(axis=1)\n",
        "\n",
        "max_missing_index = missing_values_count.idxmax()\n",
        "\n",
        "print(f\"Row {max_missing_index} = {missing_values_count[max_missing_index]}\")"
      ]
    },
    {
      "cell_type": "code",
      "execution_count": null,
      "metadata": {
        "colab": {
          "background_save": true
        },
        "id": "h4K9-VlzInDw"
      },
      "outputs": [],
      "source": [
        "tvxn.drop(index= 15368, inplace=True)"
      ]
    },
    {
      "cell_type": "code",
      "execution_count": null,
      "metadata": {
        "colab": {
          "background_save": true,
          "base_uri": "https://localhost:8080/"
        },
        "id": "R2vMD-c6zsqj",
        "outputId": "d5138212-0227-4fcc-ac5f-b9d2abc9d65e"
      },
      "outputs": [
        {
          "name": "stdout",
          "output_type": "stream",
          "text": [
            "Row 12629 = 14\n"
          ]
        }
      ],
      "source": [
        "missing_values_count = vxn.isnull().sum(axis=1)\n",
        "\n",
        "max_missing_index = missing_values_count.idxmax()\n",
        "\n",
        "print(f\"Row {max_missing_index} = {missing_values_count[max_missing_index]}\")"
      ]
    },
    {
      "cell_type": "code",
      "execution_count": null,
      "metadata": {
        "colab": {
          "background_save": true
        },
        "id": "vdM4dY1o1XX0"
      },
      "outputs": [],
      "source": [
        "vxn.drop(index=  12629, inplace=True)"
      ]
    },
    {
      "cell_type": "code",
      "execution_count": null,
      "metadata": {
        "colab": {
          "background_save": true,
          "base_uri": "https://localhost:8080/"
        },
        "id": "t-qRCLQrIwF-",
        "outputId": "6d1aead8-9bf3-4b31-f847-c513be2bb80d"
      },
      "outputs": [
        {
          "data": {
            "text/plain": [
              "(26707, 34)"
            ]
          },
          "execution_count": 32,
          "metadata": {},
          "output_type": "execute_result"
        }
      ],
      "source": [
        "tvxn.shape"
      ]
    },
    {
      "cell_type": "code",
      "execution_count": null,
      "metadata": {
        "colab": {
          "background_save": true,
          "base_uri": "https://localhost:8080/"
        },
        "id": "bZ0FYQ7Q1Y26",
        "outputId": "c6faf087-997c-4a63-c44a-a1eb8367b6c1"
      },
      "outputs": [
        {
          "data": {
            "text/plain": [
              "(26706, 34)"
            ]
          },
          "execution_count": 33,
          "metadata": {},
          "output_type": "execute_result"
        }
      ],
      "source": [
        "vxn.shape"
      ]
    },
    {
      "cell_type": "code",
      "execution_count": null,
      "metadata": {
        "colab": {
          "background_save": true,
          "base_uri": "https://localhost:8080/"
        },
        "id": "wifPdyc0j2eF",
        "outputId": "a87b2441-a51e-44eb-ff11-27145b628398"
      },
      "outputs": [
        {
          "name": "stdout",
          "output_type": "stream",
          "text": [
            "Row 1139 = 13\n"
          ]
        }
      ],
      "source": [
        "missing_values_count = vxn.isnull().sum(axis=1)\n",
        "\n",
        "max_missing_index = missing_values_count.idxmax()\n",
        "\n",
        "print(f\"Row {max_missing_index} = {missing_values_count[max_missing_index]}\")"
      ]
    },
    {
      "cell_type": "code",
      "execution_count": null,
      "metadata": {
        "colab": {
          "background_save": true,
          "base_uri": "https://localhost:8080/"
        },
        "id": "aCAIQ6G3I3s4",
        "outputId": "35d943da-b706-432c-df37-2c5fdd44ab5c"
      },
      "outputs": [
        {
          "name": "stdout",
          "output_type": "stream",
          "text": [
            "[1556, 2417, 2991, 3543, 5432, 6791, 6942, 7550, 7810, 8240, 8334, 8607, 9590, 9803, 10248, 10627, 11342, 11466, 13760, 14524, 14592, 14835, 16200, 16375, 16688, 16965, 17242, 17266, 17424, 18087, 18486, 18669, 18772, 18935, 19921, 20329, 20480, 20931, 22001, 22461, 22931, 23850, 24278, 24322, 24794, 25656]\n"
          ]
        }
      ],
      "source": [
        "row_nan_count = tvxn.isna().sum(axis=1)\n",
        "\n",
        "rows_with_13_missing = row_nan_count[row_nan_count == 13].index.tolist()\n",
        "\n",
        "print(rows_with_13_missing)\n",
        "\n",
        "tvxn.drop(index= rows_with_13_missing , inplace=True)"
      ]
    },
    {
      "cell_type": "code",
      "execution_count": null,
      "metadata": {
        "colab": {
          "background_save": true,
          "base_uri": "https://localhost:8080/"
        },
        "id": "csv_jW_AI7cX",
        "outputId": "075dfade-ee7a-47b2-b5f3-e66ad9e1aeeb"
      },
      "outputs": [
        {
          "data": {
            "text/plain": [
              "(26661, 34)"
            ]
          },
          "execution_count": 36,
          "metadata": {},
          "output_type": "execute_result"
        }
      ],
      "source": [
        "tvxn.shape"
      ]
    },
    {
      "cell_type": "code",
      "execution_count": null,
      "metadata": {
        "colab": {
          "background_save": true,
          "base_uri": "https://localhost:8080/"
        },
        "id": "mmxIr3Hvk9Pe",
        "outputId": "da53d9e7-f365-41a3-ac98-6e87afa2226b"
      },
      "outputs": [
        {
          "name": "stdout",
          "output_type": "stream",
          "text": [
            "[1139, 1156, 1646, 3694, 3772, 4076, 4328, 4912, 5163, 6040, 6105, 6230, 7102, 7749, 7878, 8026, 10133, 10179, 10742, 11487, 11684, 11714, 11795, 12677, 14241, 14266, 14518, 14910, 15277, 15356, 15425, 15580, 15591, 15788, 16184, 16723, 17565, 17597, 17815, 18268, 18755, 19463, 19565, 19986, 20351, 20432, 20553, 20587, 20623, 21145, 21964, 22281, 22607, 24234, 25399]\n"
          ]
        }
      ],
      "source": [
        "row_nan_count = vxn.isna().sum(axis=1)\n",
        "\n",
        "rows_with_13_missing = row_nan_count[row_nan_count == 13].index.tolist()\n",
        "\n",
        "print(rows_with_13_missing)\n",
        "\n",
        "vxn.drop(index= rows_with_13_missing , inplace=True)"
      ]
    },
    {
      "cell_type": "code",
      "execution_count": null,
      "metadata": {
        "colab": {
          "background_save": true,
          "base_uri": "https://localhost:8080/"
        },
        "id": "LINa4RoMlffj",
        "outputId": "f3b1c782-68bb-443d-bdac-e9ea202a2305"
      },
      "outputs": [
        {
          "name": "stdout",
          "output_type": "stream",
          "text": [
            "[1672, 3483, 6279, 10426, 23118, 24967, 25979]\n"
          ]
        }
      ],
      "source": [
        "row_nan_count = vxn.isna().sum(axis=1)\n",
        "\n",
        "rows_with_12_missing = row_nan_count[row_nan_count == 12].index.tolist()\n",
        "\n",
        "print(rows_with_12_missing)\n",
        "\n",
        "vxn.drop(index= rows_with_12_missing , inplace=True)"
      ]
    },
    {
      "cell_type": "code",
      "execution_count": null,
      "metadata": {
        "colab": {
          "background_save": true,
          "base_uri": "https://localhost:8080/"
        },
        "id": "B9SvKyU5JdP5",
        "outputId": "6773855b-13d1-403f-c076-398fd5f0bb74"
      },
      "outputs": [
        {
          "name": "stdout",
          "output_type": "stream",
          "text": [
            "[498, 3586, 5723, 8759, 10081, 21939]\n"
          ]
        }
      ],
      "source": [
        "row_nan_count = tvxn.isna().sum(axis=1)\n",
        "\n",
        "rows_with_12_missing = row_nan_count[row_nan_count == 12].index.tolist()\n",
        "\n",
        "print(rows_with_12_missing)\n",
        "\n",
        "tvxn.drop(index= rows_with_12_missing , inplace=True)"
      ]
    },
    {
      "cell_type": "code",
      "execution_count": null,
      "metadata": {
        "colab": {
          "background_save": true,
          "base_uri": "https://localhost:8080/"
        },
        "id": "VUPUQSYdOLRm",
        "outputId": "673e524b-be78-46a8-f400-3684edb6f696"
      },
      "outputs": [
        {
          "name": "stdout",
          "output_type": "stream",
          "text": [
            "[53, 177, 221, 240, 249, 260, 297, 308, 344, 401, 407, 500, 502, 579, 610, 733, 779, 801, 927, 1072, 1207, 1356, 1430, 1490, 1530, 1670, 1675, 1719, 1865, 2163, 2235, 2407, 2459, 2654, 2656, 2670, 2971, 3069, 3079, 3237, 3248, 3268, 3405, 3569, 3804, 4019, 4212, 4271, 4467, 4581, 4608, 4634, 4646, 4679, 4785, 4877, 4983, 5053, 5220, 5302, 5336, 5436, 5555, 5565, 5592, 5600, 5628, 5659, 5669, 5704, 5825, 5852, 5897, 6529, 6634, 6920, 7040, 7271, 7277, 7534, 7643, 7832, 7853, 8011, 8255, 8416, 8419, 8512, 8561, 8668, 8704, 8766, 9110, 9233, 9264, 9270, 9297, 9435, 9513, 9573, 9701, 9864, 9896, 9972, 10191, 10307, 10370, 10475, 10705, 10741, 10881, 10975, 10996, 11040, 11050, 11064, 11221, 11300, 11373, 11521, 11543, 11629, 11678, 11754, 11841, 11947, 11984, 12182, 12228, 12292, 12516, 13253, 13349, 13610, 13650, 13902, 13923, 14108, 14391, 14440, 14506, 14942, 15017, 15056, 15124, 15132, 15188, 15220, 15337, 15362, 15374, 15398, 15426, 15864, 15987, 16032, 16182, 16367, 16388, 16535, 16543, 16623, 16640, 16773, 16999, 17434, 17489, 17734, 17789, 17988, 18098, 18145, 18252, 18394, 18475, 18706, 19260, 19296, 19311, 19666, 19822, 19850, 19952, 20049, 20344, 20347, 20376, 20466, 20599, 20932, 21211, 21426, 21434, 21914, 22136, 22590, 22645, 22680, 22807, 22823, 22951, 22970, 23035, 23062, 23218, 23548, 23568, 23610, 23625, 23817, 23860, 23898, 23911, 23978, 23992, 24132, 24173, 24313, 24505, 24669, 24722, 24742, 24777, 24780, 24818, 25007, 25029, 25124, 25288, 25354, 25418, 25425, 25503, 25547, 25651, 25691, 25704, 25745, 25747, 25750, 25841, 25844, 25866, 25969, 26074, 26075, 26356, 26438, 26456, 26464, 26534]\n"
          ]
        }
      ],
      "source": [
        "row_nan_count = tvxn.isna().sum(axis=1)\n",
        "\n",
        "rows_with_11_missing = row_nan_count[row_nan_count ==11].index.tolist()\n",
        "\n",
        "print(rows_with_11_missing)\n",
        "\n",
        "tvxn.drop(index= rows_with_11_missing , inplace=True)"
      ]
    },
    {
      "cell_type": "code",
      "execution_count": null,
      "metadata": {
        "colab": {
          "background_save": true,
          "base_uri": "https://localhost:8080/"
        },
        "id": "Ab0xO7FClr7J",
        "outputId": "a0a2db85-c55f-49a4-e78b-18fdbf6dd0b5"
      },
      "outputs": [
        {
          "name": "stdout",
          "output_type": "stream",
          "text": [
            "257\n"
          ]
        }
      ],
      "source": [
        "row_nan_count = vxn.isna().sum(axis=1)\n",
        "\n",
        "rows_with_11_missing = row_nan_count[row_nan_count == 11].index.tolist()\n",
        "\n",
        "print(len(rows_with_11_missing))\n",
        "vxn.drop(index= rows_with_11_missing , inplace=True)"
      ]
    },
    {
      "cell_type": "code",
      "execution_count": null,
      "metadata": {
        "colab": {
          "background_save": true,
          "base_uri": "https://localhost:8080/"
        },
        "id": "HYP5d8aRJnsl",
        "outputId": "d21624ae-d856-4f62-f5e6-7e5926b47be9"
      },
      "outputs": [
        {
          "name": "stdout",
          "output_type": "stream",
          "text": [
            "[259, 611, 1112, 1756, 2690, 3399, 3548, 3775, 4329, 6020, 6608, 6849, 7028, 7990, 9358, 10237, 11150, 11303, 12231, 12814, 13546, 13658, 13806, 13824, 14606, 17153, 18047, 19550, 19554, 22605, 23371, 23703, 25815, 26647]\n"
          ]
        }
      ],
      "source": [
        "row_nan_count = tvxn.isna().sum(axis=1)\n",
        "\n",
        "rows_with_10_missing = row_nan_count[row_nan_count == 10].index.tolist()\n",
        "\n",
        "print(rows_with_10_missing)\n",
        "\n",
        "tvxn.drop(index= rows_with_10_missing , inplace=True)"
      ]
    },
    {
      "cell_type": "code",
      "execution_count": null,
      "metadata": {
        "colab": {
          "background_save": true,
          "base_uri": "https://localhost:8080/"
        },
        "id": "7XDBiKg9l3op",
        "outputId": "d7e78a1f-7974-4e3b-9507-f7f606a940e0"
      },
      "outputs": [
        {
          "name": "stdout",
          "output_type": "stream",
          "text": [
            "[683, 1318, 1706, 1988, 2116, 2598, 4365, 4592, 4674, 4737, 6417, 6454, 6887, 7587, 7642, 8663, 9681, 13140, 13202, 13748, 13994, 15439, 15468, 17384, 17791, 18081, 18102, 19621, 25039, 26298]\n"
          ]
        }
      ],
      "source": [
        "row_nan_count = vxn.isna().sum(axis=1)\n",
        "\n",
        "rows_with_10_missing = row_nan_count[row_nan_count == 10].index.tolist()\n",
        "\n",
        "print(rows_with_10_missing)\n",
        "\n",
        "vxn.drop(index= rows_with_10_missing , inplace=True)"
      ]
    },
    {
      "cell_type": "code",
      "execution_count": null,
      "metadata": {
        "colab": {
          "background_save": true,
          "base_uri": "https://localhost:8080/"
        },
        "id": "3mtG5nmXcB_M",
        "outputId": "0ceac6ca-ba1e-4275-d92f-fcb523a2bac4"
      },
      "outputs": [
        {
          "name": "stdout",
          "output_type": "stream",
          "text": [
            "[39, 69, 78, 92, 134, 169, 243, 255, 340, 462, 508, 573, 574, 657, 693, 704, 727, 746, 752, 772, 891, 966, 1009, 1089, 1155, 1203, 1227, 1374, 1495, 1659, 1741, 1821, 1901, 1905, 1913, 2104, 2107, 2326, 2327, 2392, 2480, 2499, 2543, 2565, 2634, 2699, 2733, 2848, 2923, 2969, 2983, 3084, 3218, 3254, 3270, 3302, 3376, 3427, 3687, 3739, 3742, 3759, 3797, 3893, 3930, 3983, 4045, 4198, 4412, 4460, 4500, 4506, 4520, 4536, 4588, 4593, 4598, 4609, 4627, 4689, 4816, 4860, 4873, 5055, 5100, 5210, 5230, 5275, 5333, 5361, 5457, 5536, 5543, 5596, 5769, 5798, 5906, 5955, 6118, 6229, 6234, 6270, 6302, 6304, 6334, 6412, 6463, 6496, 6595, 6624, 6728, 6734, 6768, 6813, 6852, 7064, 7097, 7213, 7318, 7372, 7384, 7409, 7570, 7612, 7733, 7788, 7805, 7864, 7896, 7948, 8037, 8076, 8127, 8179, 8199, 8243, 8301, 8342, 8410, 8420, 8423, 8525, 8709, 8889, 8925, 9132, 9137, 9169, 9345, 9381, 9397, 9408, 9572, 9704, 9766, 10116, 10196, 10262, 10330, 10554, 10682, 10684, 10993, 11160, 11173, 11182, 11220, 11222, 11294, 11352, 11625, 11877, 11958, 12027, 12242, 12272, 12312, 12384, 12512, 12548, 12595, 12811, 12839, 12870, 12890, 12935, 12990, 13166, 13216, 13289, 13433, 13445, 13473, 13509, 13564, 13677, 13742, 13823, 13825, 13849, 13932, 13961, 13972, 13993, 14023, 14088, 14111, 14121, 14208, 14269, 14375, 14393, 14445, 14478, 14595, 14687, 14712, 14730, 14865, 14901, 14983, 14997, 15005, 15059, 15504, 15641, 15909, 16018, 16212, 16266, 16269, 16324, 16401, 16439, 16440, 16450, 16506, 16524, 16606, 16629, 16684, 16752, 16788, 16827, 16863, 16953, 17052, 17053, 17062, 17099, 17126, 17191, 17205, 17226, 17328, 17620, 17635, 17675, 17956, 18261, 18329, 18491, 18550, 18642, 18688, 18693, 18746, 18816, 18893, 18926, 18962, 19122, 19152, 19167, 19369, 19395, 19485, 19649, 19657, 19682, 19713, 19754, 19858, 20068, 20235, 20280, 20301, 20332, 20392, 20440, 20565, 20570, 20626, 20677, 20701, 20720, 20807, 20819, 20839, 20845, 20873, 20910, 20955, 20973, 21069, 21136, 21166, 21177, 21192, 21334, 21377, 21387, 21431, 21662, 21669, 21749, 21831, 21907, 21953, 21981, 22023, 22113, 22122, 22125, 22151, 22171, 22187, 22239, 22310, 22315, 22471, 22509, 22751, 22805, 22814, 22990, 23031, 23046, 23059, 23066, 23106, 23195, 23208, 23352, 23354, 23414, 23698, 23715, 23930, 23944, 23955, 24028, 24041, 24203, 24235, 24303, 24328, 24466, 24554, 24559, 24562, 24649, 24650, 24654, 24658, 24712, 24751, 24822, 24843, 24901, 24913, 25036, 25082, 25117, 25246, 25316, 25376, 25441, 25465, 25525, 25874, 25882, 25978, 26042, 26048, 26084, 26090, 26236, 26355, 26398, 26424, 26471, 26474, 26549, 26645, 26687, 26696]\n"
          ]
        }
      ],
      "source": [
        "row_nan_count = tvxn.isna().sum(axis=1)\n",
        "\n",
        "rows_with_9_missing = row_nan_count[row_nan_count == 9].index.tolist()\n",
        "\n",
        "print(rows_with_9_missing)\n",
        "\n",
        "tvxn.drop(index= rows_with_9_missing , inplace=True)"
      ]
    },
    {
      "cell_type": "code",
      "execution_count": null,
      "metadata": {
        "colab": {
          "background_save": true,
          "base_uri": "https://localhost:8080/"
        },
        "id": "osBwQ9oxmXQs",
        "outputId": "5d3365e0-4e3e-476f-b1ed-d2d74e9b10c3"
      },
      "outputs": [
        {
          "name": "stdout",
          "output_type": "stream",
          "text": [
            "[64, 175, 203, 269, 328, 379, 410, 570, 645, 711, 794, 900, 935, 977, 1116, 1120, 1147, 1187, 1233, 1273, 1442, 1573, 1621, 1636, 1701, 1719, 1739, 1796, 1949, 2080, 2093, 2095, 2206, 2270, 2477, 2504, 2604, 2681, 2687, 2742, 2964, 2999, 3264, 3369, 3375, 3422, 3526, 3540, 3602, 3688, 3706, 3779, 3785, 3867, 3933, 3971, 4098, 4236, 4286, 4299, 4319, 4326, 4410, 4429, 4442, 4546, 4765, 4887, 4902, 4925, 4934, 5021, 5114, 5246, 5268, 5358, 5430, 5533, 5712, 5752, 5907, 5918, 5976, 5977, 5980, 5984, 6001, 6005, 6084, 6092, 6143, 6183, 6204, 6328, 6355, 6564, 6603, 6614, 6728, 6744, 6815, 6827, 6927, 6983, 7021, 7068, 7085, 7096, 7205, 7221, 7237, 7413, 7456, 7664, 7704, 7722, 7893, 7934, 7964, 8126, 8148, 8357, 8376, 8481, 8497, 8618, 8645, 8693, 8804, 8828, 8875, 9032, 9149, 9156, 9158, 9215, 9246, 9259, 9276, 9436, 9482, 9495, 9503, 9680, 9743, 9783, 9886, 9922, 9968, 9988, 10033, 10303, 10310, 10327, 10345, 10355, 10449, 10476, 10481, 10511, 10741, 10822, 10907, 11013, 11124, 11126, 11237, 11245, 11396, 11652, 11708, 11722, 11733, 11757, 11761, 11801, 11832, 11862, 11996, 12076, 12080, 12131, 12224, 12291, 12305, 12322, 12463, 12519, 12554, 12595, 12616, 12637, 12672, 12708, 12855, 12857, 12875, 12877, 13135, 13266, 13303, 13341, 13383, 13492, 13514, 13590, 13593, 13669, 13725, 14030, 14119, 14141, 14231, 14234, 14243, 14260, 14525, 14561, 14668, 14712, 14836, 14944, 14974, 15109, 15130, 15156, 15330, 15383, 15395, 15544, 15659, 16002, 16013, 16019, 16020, 16128, 16144, 16170, 16187, 16190, 16196, 16316, 16339, 16389, 16441, 16837, 16940, 16948, 16983, 17080, 17086, 17121, 17233, 17430, 17723, 17753, 17980, 18000, 18008, 18104, 18120, 18167, 18189, 18221, 18249, 18352, 18356, 18396, 18444, 18455, 18526, 18578, 18603, 18688, 18740, 18760, 18824, 18887, 18939, 19033, 19064, 19128, 19176, 19181, 19214, 19306, 19333, 19337, 19381, 19428, 19435, 19460, 19623, 19832, 19962, 19996, 20095, 20124, 20150, 20161, 20270, 20320, 20375, 20392, 20412, 20467, 20481, 20491, 20501, 20506, 20578, 20695, 20733, 20845, 20985, 21155, 21168, 21204, 21206, 21230, 21241, 21322, 21479, 21481, 21822, 21864, 21865, 21888, 21928, 22009, 22070, 22072, 22132, 22142, 22159, 22238, 22427, 22471, 22529, 22532, 22587, 22778, 22823, 22825, 22840, 22887, 22947, 22979, 22988, 23123, 23161, 23295, 23323, 23390, 23398, 23405, 23423, 23494, 23508, 23520, 23549, 23688, 23697, 23718, 23722, 23777, 23780, 23785, 23890, 23912, 23990, 24075, 24080, 24125, 24195, 24331, 24364, 24404, 24442, 24539, 24581, 24617, 24629, 24665, 24694, 24794, 24849, 24947, 24998, 25056, 25368, 25424, 25431, 25488, 25521, 25523, 25552, 25569, 25591, 25597, 25601, 25659, 25783, 25843, 25943, 26161, 26274, 26327, 26401, 26510, 26549, 26608]\n"
          ]
        }
      ],
      "source": [
        "row_nan_count = vxn.isna().sum(axis=1)\n",
        "\n",
        "rows_with_9_missing = row_nan_count[row_nan_count == 9].index.tolist()\n",
        "\n",
        "print(rows_with_9_missing)\n",
        "\n",
        "vxn.drop(index= rows_with_9_missing , inplace=True)"
      ]
    },
    {
      "cell_type": "code",
      "execution_count": null,
      "metadata": {
        "colab": {
          "background_save": true,
          "base_uri": "https://localhost:8080/"
        },
        "id": "839_11d82o13",
        "outputId": "0667fa22-722e-46d6-c667-a478ad59a3ec"
      },
      "outputs": [
        {
          "name": "stdout",
          "output_type": "stream",
          "text": [
            "(25945, 34) (25973, 34)\n"
          ]
        }
      ],
      "source": [
        "print(vxn.shape,tvxn.shape)"
      ]
    },
    {
      "cell_type": "code",
      "execution_count": null,
      "metadata": {
        "colab": {
          "background_save": true,
          "base_uri": "https://localhost:8080/"
        },
        "id": "CBGPwolwPE3r",
        "outputId": "944ef0d0-b1ca-4923-9661-f44684a6a1d0"
      },
      "outputs": [
        {
          "name": "stdout",
          "output_type": "stream",
          "text": [
            "'h1n1_concern' : 75 \n",
            "'h1n1_knowledge' : 113 \n",
            "'doctor_recc_h1n1' : 1975 \n",
            "'doctor_recc_seasonal' : 1975 \n",
            "'chronic_med_condition' : 233 \n",
            "'child_under_6_months' : 81 \n",
            "'health_worker' : 69 \n",
            "'health_insurance' : 11493 \n",
            "'education' : 672 \n",
            "'income_poverty' : 3762 \n",
            "'marital_status' : 707 \n",
            "'0_or_1' : 1301 \n",
            "'employment_status' : 736 \n",
            "'household_adults' : 21 \n",
            "'household_children' : 21 \n"
          ]
        }
      ],
      "source": [
        "missing_values_count = tvxn.isnull().sum()\n",
        "for feature, count in missing_values_count.items():\n",
        "    if count > 0:\n",
        "        print(f\"'{feature}' : {count} \")"
      ]
    },
    {
      "cell_type": "code",
      "execution_count": null,
      "metadata": {
        "colab": {
          "background_save": true,
          "base_uri": "https://localhost:8080/"
        },
        "id": "Y4vDAF3hmx7f",
        "outputId": "88e5cf7b-b82b-42c3-998f-6cb402884e1e"
      },
      "outputs": [
        {
          "name": "stdout",
          "output_type": "stream",
          "text": [
            "'h1n1_concern' : 82 \n",
            "'h1n1_knowledge' : 109 \n",
            "'doctor_recc_h1n1' : 1972 \n",
            "'doctor_recc_seasonal' : 1972 \n",
            "'chronic_med_condition' : 246 \n",
            "'child_under_6_months' : 59 \n",
            "'health_worker' : 56 \n",
            "'health_insurance' : 11513 \n",
            "'education' : 645 \n",
            "'income_poverty' : 3661 \n",
            "'marital_status' : 646 \n",
            "'rent_or_own' : 1280 \n",
            "'employment_status' : 701 \n",
            "'household_adults' : 24 \n",
            "'household_children' : 24 \n"
          ]
        }
      ],
      "source": [
        "missing_values_count = vxn.isnull().sum()\n",
        "for feature, count in missing_values_count.items():\n",
        "    if count > 0:\n",
        "        print(f\"'{feature}' : {count} \")"
      ]
    },
    {
      "cell_type": "code",
      "execution_count": null,
      "metadata": {
        "colab": {
          "background_save": true
        },
        "id": "bGbSC-zLPTh7"
      },
      "outputs": [],
      "source": [
        "from re import T\n",
        "from sklearn.experimental import enable_iterative_imputer\n",
        "from sklearn.impute import IterativeImputer\n",
        "tdf= tvxn\n",
        "for column in tdf.select_dtypes(include=['object']).columns:\n",
        "    mode_value = tdf[column].mode()[0]\n",
        "    tdf[column].fillna(mode_value, inplace=True)\n",
        "\n",
        "imputer = IterativeImputer(max_iter=100, tol=1e-3, random_state=0)\n",
        "tdf_imputed = imputer.fit_transform(tdf)\n",
        "tdf_imputed = pd.DataFrame(tdf_imputed, columns=tdf.columns)\n"
      ]
    },
    {
      "cell_type": "code",
      "execution_count": null,
      "metadata": {
        "colab": {
          "background_save": true
        },
        "id": "8SYCp-uPuyu0"
      },
      "outputs": [],
      "source": [
        "from sklearn.experimental import enable_iterative_imputer\n",
        "from sklearn.impute import IterativeImputer\n",
        "df= vxn\n",
        "for column in df.select_dtypes(include=['object']).columns:\n",
        "    mode_value = df[column].mode()[0]\n",
        "    df[column].fillna(mode_value, inplace=True)\n",
        "\n",
        "imputer = IterativeImputer(max_iter=100, tol=1e-3, random_state=0)\n",
        "df_imputed = imputer.fit_transform(df)\n",
        "df_imputed = pd.DataFrame(df_imputed, columns=df.columns)\n"
      ]
    },
    {
      "cell_type": "code",
      "execution_count": null,
      "metadata": {
        "colab": {
          "background_save": true
        },
        "id": "j1a98mDY3LlO"
      },
      "outputs": [],
      "source": [
        "missing_values_count = df_imputed.isnull().sum()\n",
        "for feature, count in missing_values_count.items():\n",
        "    if count > 0:\n",
        "        print(f\"'{feature}' : {count} \")"
      ]
    },
    {
      "cell_type": "code",
      "execution_count": null,
      "metadata": {
        "colab": {
          "background_save": true,
          "base_uri": "https://localhost:8080/"
        },
        "id": "Xgu6857-c4Ik",
        "outputId": "fa852248-46b3-42b9-9954-e9fb59b92c9f"
      },
      "outputs": [
        {
          "data": {
            "text/plain": [
              "respondent_id                  0\n",
              "h1n1_concern                   0\n",
              "h1n1_knowledge                 0\n",
              "behavioral_antiviral_meds      0\n",
              "behavioral_avoidance           0\n",
              "behavioral_face_mask           0\n",
              "behavioral_wash_hands          0\n",
              "behavioral_large_gatherings    0\n",
              "behavioral_outside_home        0\n",
              "behavioral_touch_face          0\n",
              "doctor_recc_h1n1               0\n",
              "doctor_recc_seasonal           0\n",
              "chronic_med_condition          0\n",
              "child_under_6_months           0\n",
              "health_worker                  0\n",
              "health_insurance               0\n",
              "opinion_h1n1_vacc_effective    0\n",
              "opinion_h1n1_risk              0\n",
              "opinion_h1n1_sick_from_vacc    0\n",
              "opinion_seas_vacc_effective    0\n",
              "opinion_seas_risk              0\n",
              "opinion_seas_sick_from_vacc    0\n",
              "age_group                      0\n",
              "education                      0\n",
              "race                           0\n",
              "sex                            0\n",
              "income_poverty                 0\n",
              "marital_status                 0\n",
              "0_or_1                         0\n",
              "employment_status              0\n",
              "hhs_geo_region                 0\n",
              "census_msa                     0\n",
              "household_adults               0\n",
              "household_children             0\n",
              "dtype: int64"
            ]
          },
          "execution_count": 52,
          "metadata": {},
          "output_type": "execute_result"
        }
      ],
      "source": [
        "tdf_imputed.isnull().sum()"
      ]
    },
    {
      "cell_type": "code",
      "execution_count": null,
      "metadata": {
        "colab": {
          "background_save": true,
          "base_uri": "https://localhost:8080/"
        },
        "id": "3VAxEuGTx3ir",
        "outputId": "ef902f1a-e347-40fa-f183-e465541116b5"
      },
      "outputs": [
        {
          "data": {
            "text/plain": [
              "respondent_id                  0\n",
              "h1n1_concern                   0\n",
              "h1n1_knowledge                 0\n",
              "behavioral_antiviral_meds      0\n",
              "behavioral_avoidance           0\n",
              "behavioral_face_mask           0\n",
              "behavioral_wash_hands          0\n",
              "behavioral_large_gatherings    0\n",
              "behavioral_outside_home        0\n",
              "behavioral_touch_face          0\n",
              "doctor_recc_h1n1               0\n",
              "doctor_recc_seasonal           0\n",
              "chronic_med_condition          0\n",
              "child_under_6_months           0\n",
              "health_worker                  0\n",
              "health_insurance               0\n",
              "opinion_h1n1_vacc_effective    0\n",
              "opinion_h1n1_risk              0\n",
              "opinion_h1n1_sick_from_vacc    0\n",
              "opinion_seas_vacc_effective    0\n",
              "opinion_seas_risk              0\n",
              "opinion_seas_sick_from_vacc    0\n",
              "age_group                      0\n",
              "education                      0\n",
              "race                           0\n",
              "sex                            0\n",
              "income_poverty                 0\n",
              "marital_status                 0\n",
              "rent_or_own                    0\n",
              "employment_status              0\n",
              "hhs_geo_region                 0\n",
              "census_msa                     0\n",
              "household_adults               0\n",
              "household_children             0\n",
              "dtype: int64"
            ]
          },
          "execution_count": 53,
          "metadata": {},
          "output_type": "execute_result"
        }
      ],
      "source": [
        "df_imputed.isnull().sum()"
      ]
    },
    {
      "cell_type": "code",
      "execution_count": null,
      "metadata": {
        "colab": {
          "background_save": true
        },
        "id": "96CNbO5ECQGD",
        "outputId": "9848419a-6d2a-409a-d7de-57dab1d23815"
      },
      "outputs": [
        {
          "ename": "KeyError",
          "evalue": "\"'coolhot' is not a known colormap name\"",
          "output_type": "error",
          "traceback": [
            "\u001b[0;31m---------------------------------------------------------------------------\u001b[0m",
            "\u001b[0;31mKeyError\u001b[0m                                  Traceback (most recent call last)",
            "\u001b[0;32m<ipython-input-54-bc273c998bbf>\u001b[0m in \u001b[0;36m<cell line: 4>\u001b[0;34m()\u001b[0m\n\u001b[1;32m      2\u001b[0m \u001b[0;32mimport\u001b[0m \u001b[0mmatplotlib\u001b[0m\u001b[0;34m.\u001b[0m\u001b[0mpyplot\u001b[0m \u001b[0;32mas\u001b[0m \u001b[0mplt\u001b[0m\u001b[0;34m\u001b[0m\u001b[0;34m\u001b[0m\u001b[0m\n\u001b[1;32m      3\u001b[0m \u001b[0;34m\u001b[0m\u001b[0m\n\u001b[0;32m----> 4\u001b[0;31m \u001b[0msns\u001b[0m\u001b[0;34m.\u001b[0m\u001b[0mheatmap\u001b[0m\u001b[0;34m(\u001b[0m\u001b[0mdf_imputed\u001b[0m\u001b[0;34m.\u001b[0m\u001b[0mcorr\u001b[0m\u001b[0;34m(\u001b[0m\u001b[0;34m)\u001b[0m\u001b[0;34m,\u001b[0m \u001b[0mcmap\u001b[0m\u001b[0;34m=\u001b[0m\u001b[0;34m'coolhot'\u001b[0m\u001b[0;34m)\u001b[0m\u001b[0;34m\u001b[0m\u001b[0;34m\u001b[0m\u001b[0m\n\u001b[0m\u001b[1;32m      5\u001b[0m \u001b[0mplt\u001b[0m\u001b[0;34m.\u001b[0m\u001b[0mshow\u001b[0m\u001b[0;34m(\u001b[0m\u001b[0;34m)\u001b[0m\u001b[0;34m\u001b[0m\u001b[0;34m\u001b[0m\u001b[0m\n",
            "\u001b[0;32m/usr/local/lib/python3.10/dist-packages/seaborn/matrix.py\u001b[0m in \u001b[0;36mheatmap\u001b[0;34m(data, vmin, vmax, cmap, center, robust, annot, fmt, annot_kws, linewidths, linecolor, cbar, cbar_kws, cbar_ax, square, xticklabels, yticklabels, mask, ax, **kwargs)\u001b[0m\n\u001b[1;32m    444\u001b[0m     \"\"\"\n\u001b[1;32m    445\u001b[0m     \u001b[0;31m# Initialize the plotter object\u001b[0m\u001b[0;34m\u001b[0m\u001b[0;34m\u001b[0m\u001b[0m\n\u001b[0;32m--> 446\u001b[0;31m     plotter = _HeatMapper(data, vmin, vmax, cmap, center, robust, annot, fmt,\n\u001b[0m\u001b[1;32m    447\u001b[0m                           \u001b[0mannot_kws\u001b[0m\u001b[0;34m,\u001b[0m \u001b[0mcbar\u001b[0m\u001b[0;34m,\u001b[0m \u001b[0mcbar_kws\u001b[0m\u001b[0;34m,\u001b[0m \u001b[0mxticklabels\u001b[0m\u001b[0;34m,\u001b[0m\u001b[0;34m\u001b[0m\u001b[0;34m\u001b[0m\u001b[0m\n\u001b[1;32m    448\u001b[0m                           yticklabels, mask)\n",
            "\u001b[0;32m/usr/local/lib/python3.10/dist-packages/seaborn/matrix.py\u001b[0m in \u001b[0;36m__init__\u001b[0;34m(self, data, vmin, vmax, cmap, center, robust, annot, fmt, annot_kws, cbar, cbar_kws, xticklabels, yticklabels, mask)\u001b[0m\n\u001b[1;32m    161\u001b[0m \u001b[0;34m\u001b[0m\u001b[0m\n\u001b[1;32m    162\u001b[0m         \u001b[0;31m# Determine good default values for the colormapping\u001b[0m\u001b[0;34m\u001b[0m\u001b[0;34m\u001b[0m\u001b[0m\n\u001b[0;32m--> 163\u001b[0;31m         self._determine_cmap_params(plot_data, vmin, vmax,\n\u001b[0m\u001b[1;32m    164\u001b[0m                                     cmap, center, robust)\n\u001b[1;32m    165\u001b[0m \u001b[0;34m\u001b[0m\u001b[0m\n",
            "\u001b[0;32m/usr/local/lib/python3.10/dist-packages/seaborn/matrix.py\u001b[0m in \u001b[0;36m_determine_cmap_params\u001b[0;34m(self, plot_data, vmin, vmax, cmap, center, robust)\u001b[0m\n\u001b[1;32m    215\u001b[0m                 \u001b[0mself\u001b[0m\u001b[0;34m.\u001b[0m\u001b[0mcmap\u001b[0m \u001b[0;34m=\u001b[0m \u001b[0mcm\u001b[0m\u001b[0;34m.\u001b[0m\u001b[0micefire\u001b[0m\u001b[0;34m\u001b[0m\u001b[0;34m\u001b[0m\u001b[0m\n\u001b[1;32m    216\u001b[0m         \u001b[0;32melif\u001b[0m \u001b[0misinstance\u001b[0m\u001b[0;34m(\u001b[0m\u001b[0mcmap\u001b[0m\u001b[0;34m,\u001b[0m \u001b[0mstr\u001b[0m\u001b[0;34m)\u001b[0m\u001b[0;34m:\u001b[0m\u001b[0;34m\u001b[0m\u001b[0;34m\u001b[0m\u001b[0m\n\u001b[0;32m--> 217\u001b[0;31m             \u001b[0mself\u001b[0m\u001b[0;34m.\u001b[0m\u001b[0mcmap\u001b[0m \u001b[0;34m=\u001b[0m \u001b[0mget_colormap\u001b[0m\u001b[0;34m(\u001b[0m\u001b[0mcmap\u001b[0m\u001b[0;34m)\u001b[0m\u001b[0;34m\u001b[0m\u001b[0;34m\u001b[0m\u001b[0m\n\u001b[0m\u001b[1;32m    218\u001b[0m         \u001b[0;32melif\u001b[0m \u001b[0misinstance\u001b[0m\u001b[0;34m(\u001b[0m\u001b[0mcmap\u001b[0m\u001b[0;34m,\u001b[0m \u001b[0mlist\u001b[0m\u001b[0;34m)\u001b[0m\u001b[0;34m:\u001b[0m\u001b[0;34m\u001b[0m\u001b[0;34m\u001b[0m\u001b[0m\n\u001b[1;32m    219\u001b[0m             \u001b[0mself\u001b[0m\u001b[0;34m.\u001b[0m\u001b[0mcmap\u001b[0m \u001b[0;34m=\u001b[0m \u001b[0mmpl\u001b[0m\u001b[0;34m.\u001b[0m\u001b[0mcolors\u001b[0m\u001b[0;34m.\u001b[0m\u001b[0mListedColormap\u001b[0m\u001b[0;34m(\u001b[0m\u001b[0mcmap\u001b[0m\u001b[0;34m)\u001b[0m\u001b[0;34m\u001b[0m\u001b[0;34m\u001b[0m\u001b[0m\n",
            "\u001b[0;32m/usr/local/lib/python3.10/dist-packages/seaborn/_compat.py\u001b[0m in \u001b[0;36mget_colormap\u001b[0;34m(name)\u001b[0m\n\u001b[1;32m     59\u001b[0m     \u001b[0;34m\"\"\"Handle changes to matplotlib colormap interface in 3.6.\"\"\"\u001b[0m\u001b[0;34m\u001b[0m\u001b[0;34m\u001b[0m\u001b[0m\n\u001b[1;32m     60\u001b[0m     \u001b[0;32mtry\u001b[0m\u001b[0;34m:\u001b[0m\u001b[0;34m\u001b[0m\u001b[0;34m\u001b[0m\u001b[0m\n\u001b[0;32m---> 61\u001b[0;31m         \u001b[0;32mreturn\u001b[0m \u001b[0mmpl\u001b[0m\u001b[0;34m.\u001b[0m\u001b[0mcolormaps\u001b[0m\u001b[0;34m[\u001b[0m\u001b[0mname\u001b[0m\u001b[0;34m]\u001b[0m\u001b[0;34m\u001b[0m\u001b[0;34m\u001b[0m\u001b[0m\n\u001b[0m\u001b[1;32m     62\u001b[0m     \u001b[0;32mexcept\u001b[0m \u001b[0mAttributeError\u001b[0m\u001b[0;34m:\u001b[0m\u001b[0;34m\u001b[0m\u001b[0;34m\u001b[0m\u001b[0m\n\u001b[1;32m     63\u001b[0m         \u001b[0;32mreturn\u001b[0m \u001b[0mmpl\u001b[0m\u001b[0;34m.\u001b[0m\u001b[0mcm\u001b[0m\u001b[0;34m.\u001b[0m\u001b[0mget_cmap\u001b[0m\u001b[0;34m(\u001b[0m\u001b[0mname\u001b[0m\u001b[0;34m)\u001b[0m\u001b[0;34m\u001b[0m\u001b[0;34m\u001b[0m\u001b[0m\n",
            "\u001b[0;32m/usr/local/lib/python3.10/dist-packages/matplotlib/cm.py\u001b[0m in \u001b[0;36m__getitem__\u001b[0;34m(self, item)\u001b[0m\n\u001b[1;32m     80\u001b[0m             \u001b[0;32mreturn\u001b[0m \u001b[0mself\u001b[0m\u001b[0;34m.\u001b[0m\u001b[0m_cmaps\u001b[0m\u001b[0;34m[\u001b[0m\u001b[0mitem\u001b[0m\u001b[0;34m]\u001b[0m\u001b[0;34m.\u001b[0m\u001b[0mcopy\u001b[0m\u001b[0;34m(\u001b[0m\u001b[0;34m)\u001b[0m\u001b[0;34m\u001b[0m\u001b[0;34m\u001b[0m\u001b[0m\n\u001b[1;32m     81\u001b[0m         \u001b[0;32mexcept\u001b[0m \u001b[0mKeyError\u001b[0m\u001b[0;34m:\u001b[0m\u001b[0;34m\u001b[0m\u001b[0;34m\u001b[0m\u001b[0m\n\u001b[0;32m---> 82\u001b[0;31m             \u001b[0;32mraise\u001b[0m \u001b[0mKeyError\u001b[0m\u001b[0;34m(\u001b[0m\u001b[0;34mf\"{item!r} is not a known colormap name\"\u001b[0m\u001b[0;34m)\u001b[0m \u001b[0;32mfrom\u001b[0m \u001b[0;32mNone\u001b[0m\u001b[0;34m\u001b[0m\u001b[0;34m\u001b[0m\u001b[0m\n\u001b[0m\u001b[1;32m     83\u001b[0m \u001b[0;34m\u001b[0m\u001b[0m\n\u001b[1;32m     84\u001b[0m     \u001b[0;32mdef\u001b[0m \u001b[0m__iter__\u001b[0m\u001b[0;34m(\u001b[0m\u001b[0mself\u001b[0m\u001b[0;34m)\u001b[0m\u001b[0;34m:\u001b[0m\u001b[0;34m\u001b[0m\u001b[0;34m\u001b[0m\u001b[0m\n",
            "\u001b[0;31mKeyError\u001b[0m: \"'coolhot' is not a known colormap name\""
          ]
        }
      ],
      "source": [
        "import seaborn as sns\n",
        "import matplotlib.pyplot as plt\n",
        "\n",
        "sns.heatmap(df_imputed.corr(), cmap='coolhot')\n",
        "plt.show()\n"
      ]
    },
    {
      "cell_type": "code",
      "execution_count": null,
      "metadata": {
        "colab": {
          "background_save": true,
          "base_uri": "https://localhost:8080/",
          "height": 627
        },
        "id": "Gme9bPICdWkq",
        "outputId": "2091fc27-fa27-44b8-ca2d-d8ddda99b3f7"
      },
      "outputs": [
        {
          "data": {
            "image/png": "[encoded data removed]",
            "text/plain": [
              "<Figure size 1000x800 with 2 Axes>"
            ]
          },
          "metadata": {},
          "output_type": "display_data"
        }
      ],
      "source": [
        "sns.heatmap(tdf_imputed.corr(), annot=True, cmap='coolwarm')\n",
        "plt.show()"
      ]
    },
    {
      "cell_type": "code",
      "execution_count": null,
      "metadata": {
        "colab": {
          "background_save": true
        },
        "id": "6O7o68qglCyI"
      },
      "outputs": [],
      "source": [
        "corr = df_imputed.corr()\n",
        "threshold = 0.5  # set your threshold here\n",
        "corr_mask = np.abs(corr) > threshold\n",
        "corr[corr_mask] = 0.0\n",
        "plt.figure(figsize=(10, 8))\n",
        "sns.heatmap(corr, cmap='cubehelix', annot_kws={'rotation': 90})\n",
        "plt.show()"
      ]
    },
    {
      "cell_type": "code",
      "execution_count": null,
      "metadata": {
        "colab": {
          "background_save": true
        },
        "id": "ZCv3r2jIZVi9"
      },
      "outputs": [],
      "source": [
        "mask = lvxn.index.isin(df_imputed.index)\n",
        "\n",
        "ldf = lvxn[mask]"
      ]
    },
    {
      "cell_type": "code",
      "execution_count": null,
      "metadata": {
        "colab": {
          "background_save": true
        },
        "id": "xVL-GqAq1Ts3"
      },
      "outputs": [],
      "source": [
        "\n",
        "from scipy.stats import chi2_contingency\n",
        "import pandas as pd\n",
        "\n",
        "crosstab = pd.crosstab(df_imputed['rent_or_own'], df_imputed['income_poverty'])\n",
        "\n",
        "chi2, p, dof, expected = chi2_contingency(crosstab)\n",
        "\n",
        "print(\"Chi-square statistic:\", chi2)\n",
        "print(\"P-value:\", p)\n",
        "print(\"Degrees of freedom:\", dof)\n",
        "print(\"Expected frequencies:\")\n",
        "print(expected)\n"
      ]
    },
    {
      "cell_type": "code",
      "execution_count": null,
      "metadata": {
        "colab": {
          "background_save": true
        },
        "id": "H0j8i94oZrcS"
      },
      "outputs": [],
      "source": [
        "'''from sklearn.neighbors import KNeighborsClassifier\n",
        "\n",
        "knn = KNeighborsClassifier(n_neighbors=3)\n",
        "\n",
        "X = df_imputed\n",
        "y = ldf\n",
        "\n",
        "knn.fit(X, y)\n",
        "\n",
        "y_pred = knn.predict(tdf_imputed)\n",
        "y_predict = pd.DataFrame(y_pred)\n",
        "y_predict\n"
      ]
    },
    {
      "cell_type": "code",
      "execution_count": null,
      "metadata": {
        "colab": {
          "background_save": true
        },
        "id": "Vt3xK1-DmiXQ"
      },
      "outputs": [],
      "source": [
        "'''from sklearn.ensemble import RandomForestClassifier\n",
        "\n",
        "model = RandomForestClassifier()\n",
        "model.fit(df_imputed,ldf)"
      ]
    },
    {
      "cell_type": "code",
      "execution_count": null,
      "metadata": {
        "colab": {
          "background_save": true
        },
        "id": "KJKvCdFrX54x"
      },
      "outputs": [],
      "source": [
        "\n",
        "'''predictions = model.predict(tdf_imputed)"
      ]
    },
    {
      "cell_type": "code",
      "execution_count": null,
      "metadata": {
        "colab": {
          "background_save": true
        },
        "id": "nelcojuEbx1d"
      },
      "outputs": [],
      "source": [
        "'''print(model.score(df_imputed,lvxn))"
      ]
    }
  ],
  "metadata": {
    "accelerator": "TPU",
    "colab": {
      "gpuType": "V28",
      "provenance": [],
      "mount_file_id": "1UWjJn-S6wyYjLVieZwszMEGk5KI8gFxd",
      "authorship_tag": "ABX9TyPRNuHco+MjBbgomT8Z2JYd",
      "include_colab_link": true
    },
    "kernelspec": {
      "display_name": "Python 3",
      "name": "python3"
    },
    "language_info": {
      "name": "python"
    }
  },
  "nbformat": 4,
  "nbformat_minor": 0
}